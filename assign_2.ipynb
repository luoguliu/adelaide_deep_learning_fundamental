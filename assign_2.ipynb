{
 "cells": [
  {
   "cell_type": "code",
   "execution_count": 33,
   "id": "48e99caa",
   "metadata": {},
   "outputs": [],
   "source": [
    "import torch\n",
    "import torchvision\n",
    "\n",
    "import torch.nn.functional as F\n",
    "import torchvision.datasets as datasets\n",
    "import torchvision.transforms as transforms\n",
    "\n",
    "from torch import nn\n",
    "from torch import optim\n",
    "from torch.utils.data import DataLoader\n",
    "\n",
    "from collections import OrderedDict"
   ]
  },
  {
   "cell_type": "markdown",
   "id": "54e595e9",
   "metadata": {},
   "source": [
    "# Load Data"
   ]
  },
  {
   "cell_type": "code",
   "execution_count": 5,
   "id": "099acd51",
   "metadata": {},
   "outputs": [
    {
     "name": "stdout",
     "output_type": "stream",
     "text": [
      "Files already downloaded and verified\n",
      "Files already downloaded and verified\n"
     ]
    }
   ],
   "source": [
    "transform = transforms.Compose(\n",
    "    [transforms.ToTensor(),\n",
    "     transforms.Normalize((0.5, 0.5, 0.5), (0.5, 0.5, 0.5))\n",
    "    ]\n",
    ")\n",
    "\n",
    "batch_size = 64\n",
    "\n",
    "trainset = torchvision.datasets.CIFAR10(root='./data', train=True, \n",
    "                                        download=True, transform=transform)\n",
    "trainloader = torch.utils.data.DataLoader(trainset, batch_size=batch_size,\n",
    "                                          shuffle=True, num_workers=2)\n",
    "\n",
    "testset = torchvision.datasets.CIFAR10(root='./data', train=False,\n",
    "                                       download=True, transform=transform)\n",
    "testloader = torch.utils.data.DataLoader(testset, batch_size=batch_size,\n",
    "                                         shuffle=False, num_workers=2)"
   ]
  },
  {
   "cell_type": "markdown",
   "id": "11ff32ff",
   "metadata": {},
   "source": [
    "# Simple CNN"
   ]
  },
  {
   "cell_type": "code",
   "execution_count": 6,
   "id": "9b677c5a",
   "metadata": {},
   "outputs": [],
   "source": [
    "class CNN(nn.Module):\n",
    "    def __init__(self, in_channels, num_classes):\n",
    "        \"\"\"\n",
    "        Define the layers of the convolutional neural network.\n",
    "\n",
    "        Parameters:\n",
    "            in_channels: int\n",
    "                The number of channels in the input image. For MNIST, this is 1 (grayscale images).\n",
    "            num_classes: int\n",
    "                The number of classes we want to predict, in our case 10 (digits 0 to 9).\n",
    "        \"\"\"\n",
    "        super(CNN, self).__init__()\n",
    "\n",
    "        \n",
    "        self.conv1 = nn.Conv2d(in_channels=in_channels, out_channels=8, kernel_size=3, stride=1, padding=1)\n",
    "        \n",
    "        self.conv2 = nn.Conv2d(in_channels=8, out_channels=16, kernel_size=3, stride=1, padding=1)\n",
    "        \n",
    "        self.pool = nn.MaxPool2d(kernel_size=2, stride=2)\n",
    "        \n",
    "        self.fc1 = nn.Linear(1024, num_classes)\n",
    "\n",
    "    def forward(self, x):\n",
    "        x = F.relu(self.conv1(x))  # Apply first convolution and ReLU activation\n",
    "        x = self.pool(x)           # Apply max pooling\n",
    "        \n",
    "        x = F.relu(self.conv2(x))  # Apply second convolution and ReLU activation\n",
    "        x = self.pool(x)           # Apply max pooling\n",
    "        \n",
    "        x = x.reshape(x.shape[0], -1)  # Flatten the tensor\n",
    "        x = self.fc1(x)            # Apply fully connected layer\n",
    "        return x\n",
    "    "
   ]
  },
  {
   "cell_type": "code",
   "execution_count": 7,
   "id": "ad95092e",
   "metadata": {},
   "outputs": [],
   "source": [
    "model = CNN(in_channels=3, num_classes=10)\n",
    "\n",
    "criterion = nn.CrossEntropyLoss()\n",
    "optimizer = optim.Adam(model.parameters(), lr=0.001)"
   ]
  },
  {
   "cell_type": "code",
   "execution_count": 11,
   "id": "59bb2167",
   "metadata": {},
   "outputs": [
    {
     "name": "stdout",
     "output_type": "stream",
     "text": [
      "Epoch [1/8]\n",
      "Epoch 1 loss: 0.8799849401806932\n",
      "Epoch [2/8]\n",
      "Epoch 2 loss: 0.8722213489930039\n",
      "Epoch [3/8]\n",
      "Epoch 3 loss: 0.8685711300205392\n",
      "Epoch [4/8]\n",
      "Epoch 4 loss: 0.8576208608382193\n",
      "Epoch [5/8]\n",
      "Epoch 5 loss: 0.855797382952917\n",
      "Epoch [6/8]\n",
      "Epoch 6 loss: 0.8484135303655853\n",
      "Epoch [7/8]\n",
      "Epoch 7 loss: 0.8441814763466721\n",
      "Epoch [8/8]\n",
      "Epoch 8 loss: 0.8387239220959452\n"
     ]
    }
   ],
   "source": [
    "\n",
    "def train_model(num_epochs = 8):\n",
    "    for epoch in range(num_epochs):\n",
    "        print(f\"Epoch [{epoch + 1}/{num_epochs}]\")\n",
    "        running_loss = 0.0\n",
    "\n",
    "        for data, targets in trainloader:\n",
    "            optimizer.zero_grad()\n",
    "\n",
    "            scores = model(data)\n",
    "            loss = criterion(scores, targets)\n",
    "\n",
    "            # Backward pass: compute the gradients\n",
    "            loss.backward()\n",
    "\n",
    "            # Optimization step: update the model parameters\n",
    "            optimizer.step()\n",
    "\n",
    "            running_loss += loss.item()\n",
    "\n",
    "        print(f'Epoch {epoch + 1} loss: {running_loss / len(trainloader)}')\n",
    "\n",
    "train_model()"
   ]
  },
  {
   "cell_type": "code",
   "execution_count": 13,
   "id": "a7ac9cdd",
   "metadata": {},
   "outputs": [
    {
     "name": "stdout",
     "output_type": "stream",
     "text": [
      "Checking accuracy on training data\n",
      "Got 36059/50000 with accuracy 72.12%\n",
      "Checking accuracy on test data\n",
      "Got 6608/10000 with accuracy 66.08%\n"
     ]
    }
   ],
   "source": [
    "\n",
    "def check_accuracy(loader, model):\n",
    "    if loader.dataset.train:\n",
    "        print(\"Checking accuracy on training data\")\n",
    "    else:\n",
    "        print(\"Checking accuracy on test data\")\n",
    "\n",
    "    num_correct = 0\n",
    "    num_samples = 0\n",
    "    model.eval()  # Set the model to evaluation mode\n",
    "\n",
    "    with torch.no_grad():  # Disable gradient calculation\n",
    "        for x, y in loader:\n",
    "            # Forward pass: compute the model output\n",
    "            scores = model(x)\n",
    "            _, predictions = scores.max(1)  # Get the index of the max log-probability\n",
    "            num_correct += (predictions == y).sum()  # Count correct predictions\n",
    "            num_samples += predictions.size(0)  # Count total samples\n",
    "\n",
    "        # Calculate accuracy\n",
    "        accuracy = float(num_correct) / float(num_samples) * 100\n",
    "        print(f\"Got {num_correct}/{num_samples} with accuracy {accuracy:.2f}%\")\n",
    "    \n",
    "    model.train()  # Set the model back to training mode\n",
    "\n",
    "check_accuracy(trainloader, model)\n",
    "check_accuracy(testloader, model)"
   ]
  },
  {
   "cell_type": "code",
   "execution_count": null,
   "id": "44f14db9",
   "metadata": {},
   "outputs": [],
   "source": []
  },
  {
   "cell_type": "code",
   "execution_count": 14,
   "id": "2ecd1739",
   "metadata": {},
   "outputs": [
    {
     "name": "stdout",
     "output_type": "stream",
     "text": [
      "Epoch [1/8]\n",
      "Epoch 1 loss: 2.1659052379600836\n",
      "Epoch [2/8]\n",
      "Epoch 2 loss: 1.8032552433745634\n",
      "Epoch [3/8]\n",
      "Epoch 3 loss: 1.5784929987719603\n",
      "Epoch [4/8]\n",
      "Epoch 4 loss: 1.4560905600447789\n",
      "Epoch [5/8]\n",
      "Epoch 5 loss: 1.375955175103434\n",
      "Epoch [6/8]\n",
      "Epoch 6 loss: 1.3183331810452443\n",
      "Epoch [7/8]\n",
      "Epoch 7 loss: 1.2723014319644255\n",
      "Epoch [8/8]\n",
      "Epoch 8 loss: 1.2341069752145606\n",
      "Checking accuracy on training data\n",
      "Got 28268/50000 with accuracy 56.54%\n",
      "Checking accuracy on test data\n",
      "Got 5505/10000 with accuracy 55.05%\n"
     ]
    }
   ],
   "source": [
    "model = CNN(in_channels=3, num_classes=10)\n",
    "\n",
    "criterion = nn.CrossEntropyLoss()\n",
    "optimizer = optim.SGD(model.parameters(), lr=0.001, momentum=0.9)\n",
    "\n",
    "train_model()\n",
    "check_accuracy(trainloader, model)\n",
    "check_accuracy(testloader, model)\n"
   ]
  },
  {
   "cell_type": "code",
   "execution_count": null,
   "id": "3fa93c81",
   "metadata": {},
   "outputs": [],
   "source": []
  },
  {
   "cell_type": "code",
   "execution_count": 15,
   "id": "6a325b39",
   "metadata": {},
   "outputs": [
    {
     "name": "stdout",
     "output_type": "stream",
     "text": [
      "Epoch [1/8]\n",
      "Epoch 1 loss: 1.9939509351235216\n",
      "Epoch [2/8]\n",
      "Epoch 2 loss: 1.7466479709081333\n",
      "Epoch [3/8]\n",
      "Epoch 3 loss: 1.6263347707136209\n",
      "Epoch [4/8]\n",
      "Epoch 4 loss: 1.5375859632211573\n",
      "Epoch [5/8]\n",
      "Epoch 5 loss: 1.4859731037293553\n",
      "Epoch [6/8]\n",
      "Epoch 6 loss: 1.45196577258732\n",
      "Epoch [7/8]\n",
      "Epoch 7 loss: 1.4252829826091562\n",
      "Epoch [8/8]\n",
      "Epoch 8 loss: 1.402603363441994\n",
      "Checking accuracy on training data\n",
      "Got 25447/50000 with accuracy 50.89%\n",
      "Checking accuracy on test data\n",
      "Got 5042/10000 with accuracy 50.42%\n"
     ]
    }
   ],
   "source": [
    "model = CNN(in_channels=3, num_classes=10)\n",
    "\n",
    "criterion = nn.CrossEntropyLoss()\n",
    "optimizer = optim.Adam(model.parameters(), lr=0.0001)\n",
    "\n",
    "train_model()\n",
    "check_accuracy(trainloader, model)\n",
    "check_accuracy(testloader, model)"
   ]
  },
  {
   "cell_type": "code",
   "execution_count": 16,
   "id": "6d80c12d",
   "metadata": {},
   "outputs": [
    {
     "name": "stdout",
     "output_type": "stream",
     "text": [
      "Epoch [1/8]\n",
      "Epoch 1 loss: 1.5438736866197318\n",
      "Epoch [2/8]\n",
      "Epoch 2 loss: 1.3512472524057568\n",
      "Epoch [3/8]\n",
      "Epoch 3 loss: 1.311389172168644\n",
      "Epoch [4/8]\n",
      "Epoch 4 loss: 1.2967470094675908\n",
      "Epoch [5/8]\n",
      "Epoch 5 loss: 1.283280728418199\n",
      "Epoch [6/8]\n",
      "Epoch 6 loss: 1.2677870510179368\n",
      "Epoch [7/8]\n",
      "Epoch 7 loss: 1.2571021383985534\n",
      "Epoch [8/8]\n",
      "Epoch 8 loss: 1.245619918836657\n",
      "Checking accuracy on training data\n",
      "Got 29178/50000 with accuracy 58.36%\n",
      "Checking accuracy on test data\n",
      "Got 5562/10000 with accuracy 55.62%\n"
     ]
    }
   ],
   "source": [
    "model = CNN(in_channels=3, num_classes=10)\n",
    "\n",
    "criterion = nn.CrossEntropyLoss()\n",
    "optimizer = optim.Adam(model.parameters(), lr=0.01)\n",
    "\n",
    "train_model()\n",
    "check_accuracy(trainloader, model)\n",
    "check_accuracy(testloader, model)"
   ]
  },
  {
   "cell_type": "code",
   "execution_count": null,
   "id": "bef4d4fe",
   "metadata": {},
   "outputs": [],
   "source": []
  },
  {
   "cell_type": "code",
   "execution_count": 17,
   "id": "3781fdc8",
   "metadata": {},
   "outputs": [
    {
     "name": "stdout",
     "output_type": "stream",
     "text": [
      "Epoch [1/8]\n",
      "Epoch 1 loss: 1.574443610885259\n",
      "Epoch [2/8]\n",
      "Epoch 2 loss: 1.2894108639196362\n",
      "Epoch [3/8]\n",
      "Epoch 3 loss: 1.1752804587869083\n",
      "Epoch [4/8]\n",
      "Epoch 4 loss: 1.1114105563944259\n",
      "Epoch [5/8]\n",
      "Epoch 5 loss: 1.064007526392217\n",
      "Epoch [6/8]\n",
      "Epoch 6 loss: 1.031162334143963\n",
      "Epoch [7/8]\n",
      "Epoch 7 loss: 1.0070416435713658\n",
      "Epoch [8/8]\n",
      "Epoch 8 loss: 0.9861961019313549\n",
      "Checking accuracy on training data\n",
      "Got 33258/50000 with accuracy 66.52%\n",
      "Checking accuracy on test data\n",
      "Got 6316/10000 with accuracy 63.16%\n"
     ]
    }
   ],
   "source": [
    "model = CNN(in_channels=3, num_classes=10)\n",
    "\n",
    "criterion = nn.CrossEntropyLoss()\n",
    "optimizer = optim.Adam(model.parameters(), lr=0.001)\n",
    "\n",
    "train_model()\n",
    "check_accuracy(trainloader, model)\n",
    "check_accuracy(testloader, model)"
   ]
  },
  {
   "cell_type": "code",
   "execution_count": null,
   "id": "8c27985d",
   "metadata": {},
   "outputs": [],
   "source": []
  },
  {
   "cell_type": "code",
   "execution_count": null,
   "id": "fee921cd",
   "metadata": {},
   "outputs": [],
   "source": []
  },
  {
   "cell_type": "markdown",
   "id": "434b24ba",
   "metadata": {},
   "source": [
    "# ResNet-18"
   ]
  },
  {
   "cell_type": "code",
   "execution_count": 18,
   "id": "644ffeb3",
   "metadata": {},
   "outputs": [],
   "source": [
    "class BasicBlock(nn.Module):\n",
    "    def __init__(self, in_channels, out_channels, stride=1):\n",
    "        super(BasicBlock, self).__init__()\n",
    "        self.conv1 = nn.Conv2d(in_channels, out_channels, kernel_size=3, stride=stride, padding=1, bias=False)\n",
    "        self.bn1 = nn.BatchNorm2d(out_channels)\n",
    "        self.relu = nn.ReLU(inplace=True)\n",
    "        self.conv2 = nn.Conv2d(out_channels, out_channels, kernel_size=3, stride=1, padding=1, bias=False)\n",
    "        self.bn2 = nn.BatchNorm2d(out_channels)\n",
    "        \n",
    "        self.shortcut = nn.Sequential()\n",
    "        if stride != 1 or in_channels != out_channels:\n",
    "            self.shortcut = nn.Sequential(\n",
    "                nn.Conv2d(in_channels, out_channels, kernel_size=1, stride=stride, bias=False),\n",
    "                nn.BatchNorm2d(out_channels)\n",
    "            )\n",
    "\n",
    "    def forward(self, x):\n",
    "        out = self.conv1(x)\n",
    "        out = self.bn1(out)\n",
    "        out = self.relu(out)\n",
    "        out = self.conv2(out)\n",
    "        out = self.bn2(out)\n",
    "        out += self.shortcut(x)\n",
    "        out = self.relu(out)\n",
    "        return out\n",
    "\n",
    "class ResNet18(nn.Module):\n",
    "    def __init__(self, num_classes=10):\n",
    "        super(ResNet18, self).__init__()\n",
    "        self.in_channels = 64\n",
    "        self.conv1 = nn.Conv2d(3, 64, kernel_size=3, stride=1, padding=1, bias=False)\n",
    "        self.bn1 = nn.BatchNorm2d(64)\n",
    "        self.relu = nn.ReLU(inplace=True)\n",
    "        self.maxpool = nn.MaxPool2d(kernel_size=3, stride=2, padding=1)\n",
    "        \n",
    "        self.layer1 = self._make_layer(BasicBlock, 64, 2, stride=1)\n",
    "        self.layer2 = self._make_layer(BasicBlock, 128, 2, stride=2)\n",
    "        self.layer3 = self._make_layer(BasicBlock, 256, 2, stride=2)\n",
    "        self.layer4 = self._make_layer(BasicBlock, 512, 2, stride=2)\n",
    "        \n",
    "        self.avgpool = nn.AdaptiveAvgPool2d((1, 1))\n",
    "        self.fc = nn.Linear(512, num_classes)\n",
    "\n",
    "    def _make_layer(self, block, out_channels, num_blocks, stride):\n",
    "        strides = [stride] + [1] * (num_blocks - 1)\n",
    "        layers = []\n",
    "        for stride in strides:\n",
    "            layers.append(block(self.in_channels, out_channels, stride))\n",
    "            self.in_channels = out_channels\n",
    "        return nn.Sequential(*layers)\n",
    "\n",
    "    def forward(self, x):\n",
    "        out = self.conv1(x)\n",
    "        out = self.bn1(out)\n",
    "        out = self.relu(out)\n",
    "        out = self.maxpool(out)\n",
    "        \n",
    "        out = self.layer1(out)\n",
    "        out = self.layer2(out)\n",
    "        out = self.layer3(out)\n",
    "        out = self.layer4(out)\n",
    "        \n",
    "        out = self.avgpool(out)\n",
    "        out = out.view(out.size(0), -1)\n",
    "        out = self.fc(out)\n",
    "        return out"
   ]
  },
  {
   "cell_type": "code",
   "execution_count": 19,
   "id": "193e49ef",
   "metadata": {
    "scrolled": true
   },
   "outputs": [
    {
     "name": "stdout",
     "output_type": "stream",
     "text": [
      "Epoch [1/8]\n",
      "Epoch 1 loss: 1.2214233872225828\n",
      "Epoch [2/8]\n",
      "Epoch 2 loss: 0.7871444686065854\n",
      "Epoch [3/8]\n",
      "Epoch 3 loss: 0.6001955284486951\n",
      "Epoch [4/8]\n",
      "Epoch 4 loss: 0.4724954961205992\n",
      "Epoch [5/8]\n",
      "Epoch 5 loss: 0.3634240894061525\n",
      "Epoch [6/8]\n",
      "Epoch 6 loss: 0.2653257297471051\n",
      "Epoch [7/8]\n",
      "Epoch 7 loss: 0.19090205807324565\n",
      "Epoch [8/8]\n",
      "Epoch 8 loss: 0.13389209016819326\n"
     ]
    }
   ],
   "source": [
    "model = ResNet18()\n",
    "criterion = nn.CrossEntropyLoss()\n",
    "optimizer = optim.Adam(model.parameters(), lr=0.001)\n",
    "\n",
    "train_model()"
   ]
  },
  {
   "cell_type": "code",
   "execution_count": 20,
   "id": "1c94c27a",
   "metadata": {},
   "outputs": [
    {
     "name": "stdout",
     "output_type": "stream",
     "text": [
      "Checking accuracy on training data\n",
      "Got 48783/50000 with accuracy 97.57%\n",
      "Checking accuracy on test data\n",
      "Got 8118/10000 with accuracy 81.18%\n"
     ]
    }
   ],
   "source": [
    "check_accuracy(trainloader, model)\n",
    "check_accuracy(testloader, model)"
   ]
  },
  {
   "cell_type": "code",
   "execution_count": null,
   "id": "1accee58",
   "metadata": {},
   "outputs": [],
   "source": [
    "\n",
    "\n"
   ]
  },
  {
   "cell_type": "code",
   "execution_count": null,
   "id": "f6a3213c",
   "metadata": {},
   "outputs": [],
   "source": [
    "model = ResNet18()\n",
    "criterion = nn.CrossEntropyLoss()\n",
    "optimizer = optim.Adam(model.parameters(), lr=0.001)\n",
    "\n",
    "train_model(4)"
   ]
  },
  {
   "cell_type": "code",
   "execution_count": null,
   "id": "ed75a036",
   "metadata": {},
   "outputs": [],
   "source": [
    "check_accuracy(trainloader, model)\n",
    "check_accuracy(testloader, model)"
   ]
  },
  {
   "cell_type": "code",
   "execution_count": null,
   "id": "61796698",
   "metadata": {},
   "outputs": [],
   "source": []
  },
  {
   "cell_type": "code",
   "execution_count": null,
   "id": "d3a8b946",
   "metadata": {},
   "outputs": [],
   "source": []
  },
  {
   "cell_type": "code",
   "execution_count": null,
   "id": "19e39606",
   "metadata": {},
   "outputs": [],
   "source": []
  },
  {
   "cell_type": "markdown",
   "id": "b9613877",
   "metadata": {},
   "source": [
    "## Simplify network"
   ]
  },
  {
   "cell_type": "code",
   "execution_count": 23,
   "id": "44d3eb18",
   "metadata": {},
   "outputs": [],
   "source": [
    "class ResNet18_2(nn.Module):\n",
    "    def __init__(self, num_classes=10):\n",
    "        super(ResNet18_2, self).__init__()\n",
    "        self.in_channels = 64\n",
    "        self.conv1 = nn.Conv2d(3, 64, kernel_size=3, stride=1, padding=1, bias=False)\n",
    "        self.bn1 = nn.BatchNorm2d(64)\n",
    "        self.relu = nn.ReLU(inplace=True)\n",
    "        self.maxpool = nn.MaxPool2d(kernel_size=3, stride=2, padding=1)\n",
    "        \n",
    "        self.layer1 = self._make_layer(BasicBlock, 64, 2, stride=1)\n",
    "        self.layer4 = self._make_layer(BasicBlock, 512, 2, stride=2)\n",
    "        \n",
    "        self.avgpool = nn.AdaptiveAvgPool2d((1, 1))\n",
    "        self.fc = nn.Linear(512, num_classes)\n",
    "\n",
    "    def _make_layer(self, block, out_channels, num_blocks, stride):\n",
    "        strides = [stride] + [1] * (num_blocks - 1)\n",
    "        layers = []\n",
    "        for stride in strides:\n",
    "            layers.append(block(self.in_channels, out_channels, stride))\n",
    "            self.in_channels = out_channels\n",
    "        return nn.Sequential(*layers)\n",
    "\n",
    "    def forward(self, x):\n",
    "        out = self.conv1(x)\n",
    "        out = self.bn1(out)\n",
    "        out = self.relu(out)\n",
    "        out = self.maxpool(out)\n",
    "        \n",
    "        out = self.layer1(out)\n",
    "        out = self.layer4(out)\n",
    "        \n",
    "        out = self.avgpool(out)\n",
    "        out = out.view(out.size(0), -1)\n",
    "        out = self.fc(out)\n",
    "        return out"
   ]
  },
  {
   "cell_type": "code",
   "execution_count": 24,
   "id": "0cc85711",
   "metadata": {
    "scrolled": true
   },
   "outputs": [
    {
     "name": "stdout",
     "output_type": "stream",
     "text": [
      "Epoch [1/8]\n",
      "Epoch 1 loss: 1.2516906297267856\n",
      "Epoch [2/8]\n",
      "Epoch 2 loss: 0.8542207384582066\n",
      "Epoch [3/8]\n",
      "Epoch 3 loss: 0.6615574691835266\n",
      "Epoch [4/8]\n",
      "Epoch 4 loss: 0.5421851426172439\n",
      "Epoch [5/8]\n",
      "Epoch 5 loss: 0.45480854452952096\n",
      "Epoch [6/8]\n",
      "Epoch 6 loss: 0.3784521344925284\n",
      "Epoch [7/8]\n",
      "Epoch 7 loss: 0.3052793779622411\n",
      "Epoch [8/8]\n",
      "Epoch 8 loss: 0.24215169484391236\n"
     ]
    }
   ],
   "source": [
    "model = ResNet18_2()\n",
    "criterion = nn.CrossEntropyLoss()\n",
    "optimizer = optim.Adam(model.parameters(), lr=0.001)\n",
    "\n",
    "train_model()"
   ]
  },
  {
   "cell_type": "code",
   "execution_count": 25,
   "id": "ccd140b5",
   "metadata": {},
   "outputs": [
    {
     "name": "stdout",
     "output_type": "stream",
     "text": [
      "Checking accuracy on training data\n",
      "Got 46834/50000 with accuracy 93.67%\n",
      "Checking accuracy on test data\n",
      "Got 8372/10000 with accuracy 83.72%\n"
     ]
    }
   ],
   "source": [
    "check_accuracy(trainloader, model)\n",
    "check_accuracy(testloader, model)"
   ]
  },
  {
   "cell_type": "code",
   "execution_count": null,
   "id": "6702db07",
   "metadata": {},
   "outputs": [],
   "source": []
  },
  {
   "cell_type": "code",
   "execution_count": 29,
   "id": "94453019",
   "metadata": {},
   "outputs": [],
   "source": [
    "class ResNet18_3(nn.Module):\n",
    "    def __init__(self, num_classes=10):\n",
    "        super(ResNet18_3, self).__init__()\n",
    "        self.in_channels = 64\n",
    "        self.conv1 = nn.Conv2d(3, 64, kernel_size=3, stride=1, padding=1, bias=False)\n",
    "        self.bn1 = nn.BatchNorm2d(64)\n",
    "        self.relu = nn.ReLU(inplace=True)\n",
    "        self.maxpool = nn.MaxPool2d(kernel_size=3, stride=2, padding=1)\n",
    "        \n",
    "        self.layer4 = self._make_layer(BasicBlock, 512, 2, stride=2)\n",
    "        \n",
    "        self.avgpool = nn.AdaptiveAvgPool2d((1, 1))\n",
    "        self.fc = nn.Linear(512, num_classes)\n",
    "\n",
    "    def _make_layer(self, block, out_channels, num_blocks, stride):\n",
    "        strides = [stride] + [1] * (num_blocks - 1)\n",
    "        layers = []\n",
    "        for stride in strides:\n",
    "            layers.append(block(self.in_channels, out_channels, stride))\n",
    "            self.in_channels = out_channels\n",
    "        return nn.Sequential(*layers)\n",
    "\n",
    "    def forward(self, x):\n",
    "        out = self.conv1(x)\n",
    "        out = self.bn1(out)\n",
    "        out = self.relu(out)\n",
    "        out = self.maxpool(out)\n",
    "        \n",
    "        out = self.layer4(out)\n",
    "        \n",
    "        out = self.avgpool(out)\n",
    "        out = out.view(out.size(0), -1)\n",
    "        out = self.fc(out)\n",
    "        return out"
   ]
  },
  {
   "cell_type": "code",
   "execution_count": 30,
   "id": "abe1f469",
   "metadata": {
    "scrolled": true
   },
   "outputs": [
    {
     "name": "stdout",
     "output_type": "stream",
     "text": [
      "Epoch [1/8]\n",
      "Epoch 1 loss: 1.2355274414772268\n",
      "Epoch [2/8]\n",
      "Epoch 2 loss: 0.8313470598300705\n",
      "Epoch [3/8]\n",
      "Epoch 3 loss: 0.6458148317949851\n",
      "Epoch [4/8]\n",
      "Epoch 4 loss: 0.522364522566271\n",
      "Epoch [5/8]\n",
      "Epoch 5 loss: 0.42518261004515623\n",
      "Epoch [6/8]\n",
      "Epoch 6 loss: 0.33481515701050346\n",
      "Epoch [7/8]\n",
      "Epoch 7 loss: 0.25957136394460795\n",
      "Epoch [8/8]\n",
      "Epoch 8 loss: 0.19074998393921597\n"
     ]
    }
   ],
   "source": [
    "model = ResNet18_3()\n",
    "criterion = nn.CrossEntropyLoss()\n",
    "optimizer = optim.Adam(model.parameters(), lr=0.001)\n",
    "\n",
    "train_model()"
   ]
  },
  {
   "cell_type": "code",
   "execution_count": 31,
   "id": "896e815c",
   "metadata": {},
   "outputs": [
    {
     "name": "stdout",
     "output_type": "stream",
     "text": [
      "Checking accuracy on training data\n",
      "Got 46225/50000 with accuracy 92.45%\n",
      "Checking accuracy on test data\n",
      "Got 8024/10000 with accuracy 80.24%\n"
     ]
    }
   ],
   "source": [
    "check_accuracy(trainloader, model)\n",
    "check_accuracy(testloader, model)"
   ]
  },
  {
   "cell_type": "code",
   "execution_count": null,
   "id": "3fd6a12d",
   "metadata": {},
   "outputs": [],
   "source": []
  },
  {
   "cell_type": "markdown",
   "id": "7e30c1ad",
   "metadata": {},
   "source": [
    "# Pre-trained ResNet-18"
   ]
  },
  {
   "cell_type": "code",
   "execution_count": null,
   "id": "684e26a1",
   "metadata": {},
   "outputs": [],
   "source": [
    "# load ResNet-18\n",
    "model = torchvision.models.resnet18(weights=torchvision.models.ResNet18_Weights.DEFAULT)"
   ]
  },
  {
   "cell_type": "code",
   "execution_count": null,
   "id": "140a1cc8",
   "metadata": {},
   "outputs": [],
   "source": [
    "model"
   ]
  },
  {
   "cell_type": "code",
   "execution_count": null,
   "id": "e9bcc677",
   "metadata": {},
   "outputs": [],
   "source": [
    "print(\"Original final layer\")\n",
    "print(model.fc)\n",
    "\n",
    "num_classes = 10\n",
    "num_ftrs = model.fc.in_features\n",
    "\n",
    "classifier = nn.Sequential(\n",
    "    OrderedDict(\n",
    "        [\n",
    "            (\"fc\", nn.Linear(num_ftrs, num_classes)),\n",
    "            (\"output\", nn.LogSoftmax(dim = 1)),\n",
    "        ]\n",
    "    )\n",
    ")\n",
    "model.fc = classifier\n",
    "\n",
    "print(\"\\nModified final layer\")\n",
    "print(model.fc)"
   ]
  },
  {
   "cell_type": "code",
   "execution_count": null,
   "id": "453c0918",
   "metadata": {},
   "outputs": [],
   "source": [
    "# Fine-tuing ResNet-18"
   ]
  },
  {
   "cell_type": "code",
   "execution_count": null,
   "id": "16b6bd36",
   "metadata": {},
   "outputs": [],
   "source": [
    "criterion = nn.CrossEntropyLoss()\n",
    "optimizer = optim.Adam(model.parameters(), lr=0.001)\n",
    "train_model(4)"
   ]
  },
  {
   "cell_type": "code",
   "execution_count": null,
   "id": "b28c9267",
   "metadata": {},
   "outputs": [],
   "source": [
    "check_accuracy(trainloader, model)\n",
    "check_accuracy(testloader, model)"
   ]
  },
  {
   "cell_type": "code",
   "execution_count": null,
   "id": "669aaf86",
   "metadata": {},
   "outputs": [],
   "source": []
  },
  {
   "cell_type": "code",
   "execution_count": null,
   "id": "a0120f15",
   "metadata": {},
   "outputs": [],
   "source": [
    "# No fine-tuning: use ResNet-18 to extract features and train a Logistic Regression"
   ]
  },
  {
   "cell_type": "code",
   "execution_count": 35,
   "id": "fb9b289e",
   "metadata": {},
   "outputs": [],
   "source": [
    "model = torchvision.models.resnet18(weights=torchvision.models.ResNet18_Weights.DEFAULT)\n",
    "for parameter in model.parameters():\n",
    "    parameter.requires_grad = False\n",
    "\n",
    "num_classes = 10\n",
    "num_ftrs = model.fc.in_features\n",
    "    \n",
    "classifier = nn.Sequential(\n",
    "    OrderedDict(\n",
    "        [\n",
    "            (\"fc\", nn.Linear(num_ftrs, num_classes)),\n",
    "            (\"output\", nn.LogSoftmax(dim = 1)),\n",
    "        ]\n",
    "    )\n",
    ")\n",
    "model.fc = classifier"
   ]
  },
  {
   "cell_type": "code",
   "execution_count": null,
   "id": "6f7be1c3",
   "metadata": {},
   "outputs": [],
   "source": [
    "for name, parameter in model.named_parameters():\n",
    "    print(name, \":\\t\", parameter.requires_grad)"
   ]
  },
  {
   "cell_type": "code",
   "execution_count": 36,
   "id": "98d95c0f",
   "metadata": {},
   "outputs": [
    {
     "name": "stdout",
     "output_type": "stream",
     "text": [
      "Epoch [1/8]\n",
      "Epoch 1 loss: 1.726463814830536\n",
      "Epoch [2/8]\n",
      "Epoch 2 loss: 1.5996148958230567\n",
      "Epoch [3/8]\n",
      "Epoch 3 loss: 1.5855870265180192\n",
      "Epoch [4/8]\n",
      "Epoch 4 loss: 1.5703868054977768\n",
      "Epoch [5/8]\n",
      "Epoch 5 loss: 1.570842364560003\n",
      "Epoch [6/8]\n",
      "Epoch 6 loss: 1.5681217157322427\n",
      "Epoch [7/8]\n",
      "Epoch 7 loss: 1.5628956089849058\n",
      "Epoch [8/8]\n",
      "Epoch 8 loss: 1.5690741220398632\n"
     ]
    }
   ],
   "source": [
    "criterion = nn.CrossEntropyLoss()\n",
    "optimizer = optim.Adam(model.fc.parameters(), lr=0.001)\n",
    "train_model()"
   ]
  },
  {
   "cell_type": "code",
   "execution_count": 37,
   "id": "488b3892",
   "metadata": {},
   "outputs": [
    {
     "name": "stdout",
     "output_type": "stream",
     "text": [
      "Checking accuracy on training data\n",
      "Got 23332/50000 with accuracy 46.66%\n",
      "Checking accuracy on test data\n",
      "Got 4521/10000 with accuracy 45.21%\n"
     ]
    }
   ],
   "source": [
    "check_accuracy(trainloader, model)\n",
    "check_accuracy(testloader, model)"
   ]
  },
  {
   "cell_type": "code",
   "execution_count": null,
   "id": "233a6d4a",
   "metadata": {},
   "outputs": [],
   "source": []
  },
  {
   "cell_type": "code",
   "execution_count": null,
   "id": "60dc92bf",
   "metadata": {},
   "outputs": [],
   "source": []
  },
  {
   "cell_type": "code",
   "execution_count": null,
   "id": "3dfe82ef",
   "metadata": {},
   "outputs": [],
   "source": []
  },
  {
   "cell_type": "markdown",
   "id": "1ee6fe3e",
   "metadata": {},
   "source": [
    "# Other pre-trained model"
   ]
  },
  {
   "cell_type": "code",
   "execution_count": null,
   "id": "b0602eee",
   "metadata": {},
   "outputs": [],
   "source": [
    "model = torchvision.models.resnet34(weights=torchvision.models.ResNet34_Weights.DEFAULT)"
   ]
  },
  {
   "cell_type": "code",
   "execution_count": null,
   "id": "331a94df",
   "metadata": {},
   "outputs": [],
   "source": [
    "num_classes = 10\n",
    "num_ftrs = model.fc.in_features\n",
    "\n",
    "classifier = nn.Sequential(\n",
    "    OrderedDict(\n",
    "        [\n",
    "            (\"fc\", nn.Linear(num_ftrs, num_classes)),\n",
    "            (\"output\", nn.LogSoftmax(dim = 1)),\n",
    "        ]\n",
    "    )\n",
    ")\n",
    "model.fc = classifier\n",
    "\n",
    "criterion = nn.CrossEntropyLoss()\n",
    "optimizer = optim.Adam(model.parameters(), lr=0.001)\n",
    "train_model(4)\n",
    "\n",
    "check_accuracy(trainloader, model)\n",
    "check_accuracy(testloader, model)"
   ]
  },
  {
   "cell_type": "code",
   "execution_count": null,
   "id": "a17d06e0",
   "metadata": {},
   "outputs": [],
   "source": []
  },
  {
   "cell_type": "code",
   "execution_count": null,
   "id": "285a020e",
   "metadata": {},
   "outputs": [],
   "source": []
  },
  {
   "cell_type": "code",
   "execution_count": null,
   "id": "5395bea0",
   "metadata": {},
   "outputs": [],
   "source": [
    "model = torchvision.models.mobilenet_v2(weights=torchvision.models.MobileNet_V2_Weights.DEFAULT)\n",
    "\n",
    "num_classes = 10\n",
    "num_ftrs = model.classifier[1].in_features\n",
    "\n",
    "model.classifier[1] = nn.Linear(in_features=num_ftrs, out_features=num_classes, bias=True)\n",
    "\n",
    "criterion = nn.CrossEntropyLoss()\n",
    "optimizer = optim.Adam(model.parameters(), lr=0.001)\n",
    "train_model(4)"
   ]
  },
  {
   "cell_type": "code",
   "execution_count": null,
   "id": "990e0fb9",
   "metadata": {},
   "outputs": [],
   "source": [
    "check_accuracy(trainloader, model)\n",
    "check_accuracy(testloader, model)"
   ]
  }
 ],
 "metadata": {
  "kernelspec": {
   "display_name": "Python 3 (ipykernel)",
   "language": "python",
   "name": "python3"
  },
  "language_info": {
   "codemirror_mode": {
    "name": "ipython",
    "version": 3
   },
   "file_extension": ".py",
   "mimetype": "text/x-python",
   "name": "python",
   "nbconvert_exporter": "python",
   "pygments_lexer": "ipython3",
   "version": "3.11.5"
  }
 },
 "nbformat": 4,
 "nbformat_minor": 5
}
